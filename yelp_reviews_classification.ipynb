{
 "cells": [
  {
   "cell_type": "code",
   "execution_count": 1,
   "id": "initial_id",
   "metadata": {
    "collapsed": true
   },
   "outputs": [],
   "source": [
    "import spacy\n",
    "from sklearn.model_selection import train_test_split"
   ]
  },
  {
   "cell_type": "code",
   "execution_count": 2,
   "id": "11c93a00",
   "metadata": {},
   "outputs": [
    {
     "name": "stdout",
     "output_type": "stream",
     "text": [
      "Collecting en-core-web-sm==3.7.1\n",
      "  Downloading https://github.com/explosion/spacy-models/releases/download/en_core_web_sm-3.7.1/en_core_web_sm-3.7.1-py3-none-any.whl (12.8 MB)\n",
      "\u001b[2K     \u001b[90m━━━━━━━━━━━━━━━━━━━━━━━━━━━━━━━━━━━━━━━━\u001b[0m \u001b[32m12.8/12.8 MB\u001b[0m \u001b[31m44.3 MB/s\u001b[0m eta \u001b[36m0:00:00\u001b[0m00:01\u001b[0m00:01\u001b[0m\n",
      "\u001b[?25hRequirement already satisfied: spacy<3.8.0,>=3.7.2 in /home/oneadmin/anaconda3/envs/ttth_natural_language_processing_practice/lib/python3.10/site-packages (from en-core-web-sm==3.7.1) (3.7.2)\n",
      "Requirement already satisfied: spacy-legacy<3.1.0,>=3.0.11 in /home/oneadmin/anaconda3/envs/ttth_natural_language_processing_practice/lib/python3.10/site-packages (from spacy<3.8.0,>=3.7.2->en-core-web-sm==3.7.1) (3.0.12)\n",
      "Requirement already satisfied: spacy-loggers<2.0.0,>=1.0.0 in /home/oneadmin/anaconda3/envs/ttth_natural_language_processing_practice/lib/python3.10/site-packages (from spacy<3.8.0,>=3.7.2->en-core-web-sm==3.7.1) (1.0.5)\n",
      "Requirement already satisfied: murmurhash<1.1.0,>=0.28.0 in /home/oneadmin/anaconda3/envs/ttth_natural_language_processing_practice/lib/python3.10/site-packages (from spacy<3.8.0,>=3.7.2->en-core-web-sm==3.7.1) (1.0.10)\n",
      "Requirement already satisfied: cymem<2.1.0,>=2.0.2 in /home/oneadmin/anaconda3/envs/ttth_natural_language_processing_practice/lib/python3.10/site-packages (from spacy<3.8.0,>=3.7.2->en-core-web-sm==3.7.1) (2.0.8)\n",
      "Requirement already satisfied: preshed<3.1.0,>=3.0.2 in /home/oneadmin/anaconda3/envs/ttth_natural_language_processing_practice/lib/python3.10/site-packages (from spacy<3.8.0,>=3.7.2->en-core-web-sm==3.7.1) (3.0.9)\n",
      "Requirement already satisfied: thinc<8.3.0,>=8.1.8 in /home/oneadmin/anaconda3/envs/ttth_natural_language_processing_practice/lib/python3.10/site-packages (from spacy<3.8.0,>=3.7.2->en-core-web-sm==3.7.1) (8.2.1)\n",
      "Requirement already satisfied: wasabi<1.2.0,>=0.9.1 in /home/oneadmin/anaconda3/envs/ttth_natural_language_processing_practice/lib/python3.10/site-packages (from spacy<3.8.0,>=3.7.2->en-core-web-sm==3.7.1) (1.1.2)\n",
      "Requirement already satisfied: srsly<3.0.0,>=2.4.3 in /home/oneadmin/anaconda3/envs/ttth_natural_language_processing_practice/lib/python3.10/site-packages (from spacy<3.8.0,>=3.7.2->en-core-web-sm==3.7.1) (2.4.8)\n",
      "Requirement already satisfied: catalogue<2.1.0,>=2.0.6 in /home/oneadmin/anaconda3/envs/ttth_natural_language_processing_practice/lib/python3.10/site-packages (from spacy<3.8.0,>=3.7.2->en-core-web-sm==3.7.1) (2.0.10)\n",
      "Requirement already satisfied: weasel<0.4.0,>=0.1.0 in /home/oneadmin/anaconda3/envs/ttth_natural_language_processing_practice/lib/python3.10/site-packages (from spacy<3.8.0,>=3.7.2->en-core-web-sm==3.7.1) (0.3.4)\n",
      "Requirement already satisfied: typer<0.10.0,>=0.3.0 in /home/oneadmin/anaconda3/envs/ttth_natural_language_processing_practice/lib/python3.10/site-packages (from spacy<3.8.0,>=3.7.2->en-core-web-sm==3.7.1) (0.9.0)\n",
      "Requirement already satisfied: smart-open<7.0.0,>=5.2.1 in /home/oneadmin/anaconda3/envs/ttth_natural_language_processing_practice/lib/python3.10/site-packages (from spacy<3.8.0,>=3.7.2->en-core-web-sm==3.7.1) (6.4.0)\n",
      "Requirement already satisfied: tqdm<5.0.0,>=4.38.0 in /home/oneadmin/anaconda3/envs/ttth_natural_language_processing_practice/lib/python3.10/site-packages (from spacy<3.8.0,>=3.7.2->en-core-web-sm==3.7.1) (4.66.1)\n",
      "Requirement already satisfied: requests<3.0.0,>=2.13.0 in /home/oneadmin/anaconda3/envs/ttth_natural_language_processing_practice/lib/python3.10/site-packages (from spacy<3.8.0,>=3.7.2->en-core-web-sm==3.7.1) (2.31.0)\n",
      "Requirement already satisfied: pydantic!=1.8,!=1.8.1,<3.0.0,>=1.7.4 in /home/oneadmin/anaconda3/envs/ttth_natural_language_processing_practice/lib/python3.10/site-packages (from spacy<3.8.0,>=3.7.2->en-core-web-sm==3.7.1) (2.5.2)\n",
      "Requirement already satisfied: jinja2 in /home/oneadmin/anaconda3/envs/ttth_natural_language_processing_practice/lib/python3.10/site-packages (from spacy<3.8.0,>=3.7.2->en-core-web-sm==3.7.1) (3.1.2)\n",
      "Requirement already satisfied: setuptools in /home/oneadmin/anaconda3/envs/ttth_natural_language_processing_practice/lib/python3.10/site-packages (from spacy<3.8.0,>=3.7.2->en-core-web-sm==3.7.1) (69.0.2)\n",
      "Requirement already satisfied: packaging>=20.0 in /home/oneadmin/anaconda3/envs/ttth_natural_language_processing_practice/lib/python3.10/site-packages (from spacy<3.8.0,>=3.7.2->en-core-web-sm==3.7.1) (23.2)\n",
      "Requirement already satisfied: langcodes<4.0.0,>=3.2.0 in /home/oneadmin/anaconda3/envs/ttth_natural_language_processing_practice/lib/python3.10/site-packages (from spacy<3.8.0,>=3.7.2->en-core-web-sm==3.7.1) (3.3.0)\n",
      "Requirement already satisfied: numpy>=1.19.0 in /home/oneadmin/anaconda3/envs/ttth_natural_language_processing_practice/lib/python3.10/site-packages (from spacy<3.8.0,>=3.7.2->en-core-web-sm==3.7.1) (1.26.2)\n",
      "Requirement already satisfied: annotated-types>=0.4.0 in /home/oneadmin/anaconda3/envs/ttth_natural_language_processing_practice/lib/python3.10/site-packages (from pydantic!=1.8,!=1.8.1,<3.0.0,>=1.7.4->spacy<3.8.0,>=3.7.2->en-core-web-sm==3.7.1) (0.6.0)\n",
      "Requirement already satisfied: pydantic-core==2.14.5 in /home/oneadmin/anaconda3/envs/ttth_natural_language_processing_practice/lib/python3.10/site-packages (from pydantic!=1.8,!=1.8.1,<3.0.0,>=1.7.4->spacy<3.8.0,>=3.7.2->en-core-web-sm==3.7.1) (2.14.5)\n",
      "Requirement already satisfied: typing-extensions>=4.6.1 in /home/oneadmin/anaconda3/envs/ttth_natural_language_processing_practice/lib/python3.10/site-packages (from pydantic!=1.8,!=1.8.1,<3.0.0,>=1.7.4->spacy<3.8.0,>=3.7.2->en-core-web-sm==3.7.1) (4.9.0)\n",
      "Requirement already satisfied: charset-normalizer<4,>=2 in /home/oneadmin/anaconda3/envs/ttth_natural_language_processing_practice/lib/python3.10/site-packages (from requests<3.0.0,>=2.13.0->spacy<3.8.0,>=3.7.2->en-core-web-sm==3.7.1) (3.3.2)\n",
      "Requirement already satisfied: idna<4,>=2.5 in /home/oneadmin/anaconda3/envs/ttth_natural_language_processing_practice/lib/python3.10/site-packages (from requests<3.0.0,>=2.13.0->spacy<3.8.0,>=3.7.2->en-core-web-sm==3.7.1) (3.6)\n",
      "Requirement already satisfied: urllib3<3,>=1.21.1 in /home/oneadmin/anaconda3/envs/ttth_natural_language_processing_practice/lib/python3.10/site-packages (from requests<3.0.0,>=2.13.0->spacy<3.8.0,>=3.7.2->en-core-web-sm==3.7.1) (2.1.0)\n",
      "Requirement already satisfied: certifi>=2017.4.17 in /home/oneadmin/anaconda3/envs/ttth_natural_language_processing_practice/lib/python3.10/site-packages (from requests<3.0.0,>=2.13.0->spacy<3.8.0,>=3.7.2->en-core-web-sm==3.7.1) (2023.11.17)\n",
      "Requirement already satisfied: blis<0.8.0,>=0.7.8 in /home/oneadmin/anaconda3/envs/ttth_natural_language_processing_practice/lib/python3.10/site-packages (from thinc<8.3.0,>=8.1.8->spacy<3.8.0,>=3.7.2->en-core-web-sm==3.7.1) (0.7.11)\n",
      "Requirement already satisfied: confection<1.0.0,>=0.0.1 in /home/oneadmin/anaconda3/envs/ttth_natural_language_processing_practice/lib/python3.10/site-packages (from thinc<8.3.0,>=8.1.8->spacy<3.8.0,>=3.7.2->en-core-web-sm==3.7.1) (0.1.4)\n",
      "Requirement already satisfied: click<9.0.0,>=7.1.1 in /home/oneadmin/anaconda3/envs/ttth_natural_language_processing_practice/lib/python3.10/site-packages (from typer<0.10.0,>=0.3.0->spacy<3.8.0,>=3.7.2->en-core-web-sm==3.7.1) (8.1.7)\n",
      "Requirement already satisfied: cloudpathlib<0.17.0,>=0.7.0 in /home/oneadmin/anaconda3/envs/ttth_natural_language_processing_practice/lib/python3.10/site-packages (from weasel<0.4.0,>=0.1.0->spacy<3.8.0,>=3.7.2->en-core-web-sm==3.7.1) (0.16.0)\n",
      "Requirement already satisfied: MarkupSafe>=2.0 in /home/oneadmin/anaconda3/envs/ttth_natural_language_processing_practice/lib/python3.10/site-packages (from jinja2->spacy<3.8.0,>=3.7.2->en-core-web-sm==3.7.1) (2.1.3)\n",
      "Installing collected packages: en-core-web-sm\n",
      "Successfully installed en-core-web-sm-3.7.1\n",
      "\u001b[38;5;2m✔ Download and installation successful\u001b[0m\n",
      "You can now load the package via spacy.load('en_core_web_sm')\n"
     ]
    }
   ],
   "source": [
    "# Make sure that the English model is downloaded\n",
    "if not spacy.util.is_package(\"en_core_web_sm\"):\n",
    "    spacy.cli.download(\"en_core_web_sm\")\n",
    "    \n",
    "# Load the English model\n",
    "nlp = spacy.load(\"en_core_web_sm\")"
   ]
  },
  {
   "cell_type": "code",
   "execution_count": 3,
   "id": "dd612976",
   "metadata": {},
   "outputs": [],
   "source": [
    "# Create a list of all vocabularies\n",
    "spacy_vocab = list(nlp.vocab.strings)"
   ]
  },
  {
   "cell_type": "code",
   "execution_count": 4,
   "id": "7dd4949a",
   "metadata": {},
   "outputs": [
    {
     "name": "stdout",
     "output_type": "stream",
     "text": [
      "Number of vocabularies: 84780\n"
     ]
    }
   ],
   "source": [
    "# Print the number of vocabularies\n",
    "print(\"Number of vocabularies:\", len(spacy_vocab))"
   ]
  },
  {
   "cell_type": "code",
   "execution_count": 5,
   "id": "1f533733",
   "metadata": {},
   "outputs": [
    {
     "name": "stdout",
     "output_type": "stream",
     "text": [
      "50000th vocabulary: gavin\n"
     ]
    }
   ],
   "source": [
    "# What is the 50000th vocabulary?\n",
    "print(\"50000th vocabulary:\", spacy_vocab[50000])"
   ]
  },
  {
   "cell_type": "markdown",
   "id": "6c6a7d72",
   "metadata": {},
   "source": [
    "### Let's build a vocabulary by ourselves"
   ]
  },
  {
   "cell_type": "code",
   "execution_count": 6,
   "id": "0a615314",
   "metadata": {},
   "outputs": [],
   "source": [
    "import numpy as np\n",
    "import pandas as pd\n",
    "from collections import Counter\n",
    "import re"
   ]
  },
  {
   "cell_type": "code",
   "execution_count": 7,
   "id": "0f84c2e9",
   "metadata": {},
   "outputs": [],
   "source": [
    "# Read the data\n",
    "df = pd.read_excel('Data/reviews 1.xlsx')"
   ]
  },
  {
   "cell_type": "code",
   "execution_count": 8,
   "id": "0573d501",
   "metadata": {},
   "outputs": [
    {
     "data": {
      "text/html": [
       "<div>\n",
       "<style scoped>\n",
       "    .dataframe tbody tr th:only-of-type {\n",
       "        vertical-align: middle;\n",
       "    }\n",
       "\n",
       "    .dataframe tbody tr th {\n",
       "        vertical-align: top;\n",
       "    }\n",
       "\n",
       "    .dataframe thead th {\n",
       "        text-align: right;\n",
       "    }\n",
       "</style>\n",
       "<table border=\"1\" class=\"dataframe\">\n",
       "  <thead>\n",
       "    <tr style=\"text-align: right;\">\n",
       "      <th></th>\n",
       "      <th>rating</th>\n",
       "      <th>review</th>\n",
       "    </tr>\n",
       "  </thead>\n",
       "  <tbody>\n",
       "    <tr>\n",
       "      <th>0</th>\n",
       "      <td>negative</td>\n",
       "      <td>terrible place to work for i just heard a stor...</td>\n",
       "    </tr>\n",
       "    <tr>\n",
       "      <th>1</th>\n",
       "      <td>negative</td>\n",
       "      <td>hours , minutes total time for an extremely s...</td>\n",
       "    </tr>\n",
       "    <tr>\n",
       "      <th>2</th>\n",
       "      <td>negative</td>\n",
       "      <td>my less than stellar review is for service . w...</td>\n",
       "    </tr>\n",
       "    <tr>\n",
       "      <th>3</th>\n",
       "      <td>negative</td>\n",
       "      <td>i m granting one star because there s no way t...</td>\n",
       "    </tr>\n",
       "    <tr>\n",
       "      <th>4</th>\n",
       "      <td>negative</td>\n",
       "      <td>the food here is mediocre at best . i went aft...</td>\n",
       "    </tr>\n",
       "  </tbody>\n",
       "</table>\n",
       "</div>"
      ],
      "text/plain": [
       "     rating                                             review\n",
       "0  negative  terrible place to work for i just heard a stor...\n",
       "1  negative   hours , minutes total time for an extremely s...\n",
       "2  negative  my less than stellar review is for service . w...\n",
       "3  negative  i m granting one star because there s no way t...\n",
       "4  negative  the food here is mediocre at best . i went aft..."
      ]
     },
     "execution_count": 8,
     "metadata": {},
     "output_type": "execute_result"
    }
   ],
   "source": [
    "df.head()"
   ]
  },
  {
   "cell_type": "code",
   "execution_count": 9,
   "id": "7fd24991",
   "metadata": {},
   "outputs": [
    {
     "data": {
      "text/html": [
       "<div>\n",
       "<style scoped>\n",
       "    .dataframe tbody tr th:only-of-type {\n",
       "        vertical-align: middle;\n",
       "    }\n",
       "\n",
       "    .dataframe tbody tr th {\n",
       "        vertical-align: top;\n",
       "    }\n",
       "\n",
       "    .dataframe thead th {\n",
       "        text-align: right;\n",
       "    }\n",
       "</style>\n",
       "<table border=\"1\" class=\"dataframe\">\n",
       "  <thead>\n",
       "    <tr style=\"text-align: right;\">\n",
       "      <th></th>\n",
       "      <th>rating</th>\n",
       "      <th>review</th>\n",
       "    </tr>\n",
       "  </thead>\n",
       "  <tbody>\n",
       "    <tr>\n",
       "      <th>55995</th>\n",
       "      <td>positive</td>\n",
       "      <td>great food . wonderful , friendly service . i ...</td>\n",
       "    </tr>\n",
       "    <tr>\n",
       "      <th>55996</th>\n",
       "      <td>positive</td>\n",
       "      <td>charlotte should be the new standard for moder...</td>\n",
       "    </tr>\n",
       "    <tr>\n",
       "      <th>55997</th>\n",
       "      <td>positive</td>\n",
       "      <td>get the encore sandwich ! ! make sure to get i...</td>\n",
       "    </tr>\n",
       "    <tr>\n",
       "      <th>55998</th>\n",
       "      <td>positive</td>\n",
       "      <td>i m a pretty big ice cream gelato fan . pretty...</td>\n",
       "    </tr>\n",
       "    <tr>\n",
       "      <th>55999</th>\n",
       "      <td>positive</td>\n",
       "      <td>where else can you find all the parts and piec...</td>\n",
       "    </tr>\n",
       "  </tbody>\n",
       "</table>\n",
       "</div>"
      ],
      "text/plain": [
       "         rating                                             review\n",
       "55995  positive  great food . wonderful , friendly service . i ...\n",
       "55996  positive  charlotte should be the new standard for moder...\n",
       "55997  positive  get the encore sandwich ! ! make sure to get i...\n",
       "55998  positive  i m a pretty big ice cream gelato fan . pretty...\n",
       "55999  positive  where else can you find all the parts and piec..."
      ]
     },
     "execution_count": 9,
     "metadata": {},
     "output_type": "execute_result"
    }
   ],
   "source": [
    "df.tail()"
   ]
  },
  {
   "cell_type": "code",
   "execution_count": 10,
   "id": "6913a566",
   "metadata": {},
   "outputs": [],
   "source": [
    "def add_token(vocab, token):\n",
    "    \"\"\"\n",
    "    Add a token to the vocab. Check if the token is already in the vocab, if not, add it to the vocab.\n",
    "    \n",
    "    Args:\n",
    "        vocab (dict): A dictionary of vocabularies.\n",
    "        token (str): A token to be added to the vocab.\n",
    "        \n",
    "    Returns:\n",
    "        int: The index of the token in the vocab.\n",
    "    \"\"\"\n",
    "    \n",
    "    if token not in vocab['word2idx']:\n",
    "        vocab['word2idx'][token] = vocab['count']\n",
    "        vocab['idx2word'][vocab['count']] = token\n",
    "        vocab['count'] += 1\n",
    "        return vocab['count'] - 1\n",
    "    else:\n",
    "        return vocab['word2idx'][token]"
   ]
  },
  {
   "cell_type": "code",
   "execution_count": 11,
   "id": "af045a81",
   "metadata": {},
   "outputs": [],
   "source": [
    "def add_tokens(vocab, tokens):\n",
    "    \"\"\"\n",
    "    Add a list of tokens to the vocab. Check if the token is already in the vocab, if not, add it to the vocab.\n",
    "    \n",
    "    Args:\n",
    "        vocab (dict): A dictionary of vocabularies.\n",
    "        tokens (list): A list of tokens to be added to the vocab.\n",
    "        \n",
    "    Returns:\n",
    "        list: A list of indices of the tokens in the vocab.\n",
    "    \"\"\"\n",
    "    indices = []\n",
    "    for token in tokens:\n",
    "        index = add_token(vocab, token)\n",
    "        indices.append(index)\n",
    "    return indices"
   ]
  },
  {
   "cell_type": "code",
   "execution_count": 12,
   "id": "f2cb6287",
   "metadata": {},
   "outputs": [],
   "source": [
    "def initialize_vocabulary():\n",
    "    \"\"\"\n",
    "    Initialize the vocabulary with the following tokens:\n",
    "    <UNK>: Unknown token\n",
    "    <PAD>: Padding token\n",
    "    <EOS>: End of sentence token\n",
    "\n",
    "    There are two different dictionaries: word2idx and idx2word\n",
    "    \n",
    "    Args:\n",
    "        None\n",
    "        \n",
    "    Returns:\n",
    "        vocab (dict): A dictionary of vocabularies.\n",
    "    \"\"\"\n",
    "    \n",
    "    # Define the vocab\n",
    "    vocab = {}\n",
    "\n",
    "    # Define the special tokens\n",
    "    special_tokens = ['<UNK>', '<PAD>', '<EOS>']\n",
    "\n",
    "    # Define the word2idx dictionary\n",
    "    vocab['word2idx'] = {}\n",
    "\n",
    "    # Define the idx2word dictionary\n",
    "    vocab['idx2word'] = {}\n",
    "\n",
    "    # Define the count\n",
    "    vocab['count'] = 0\n",
    "\n",
    "    # Add the special tokens to the vocab\n",
    "    for token in special_tokens:\n",
    "        add_token(vocab, token)\n",
    "        \n",
    "    return vocab"
   ]
  },
  {
   "cell_type": "code",
   "execution_count": 13,
   "id": "06d6fc08",
   "metadata": {},
   "outputs": [],
   "source": [
    "def lookup_token(vocab, token):\n",
    "    \"\"\"\n",
    "    Lookup a token in the vocab.\n",
    "    \n",
    "    Args:\n",
    "        vocab (dict): A dictionary of vocabularies.\n",
    "        token (str): A token to be looked up.\n",
    "        \n",
    "    Returns:\n",
    "        int: The index of the token in the vocab, or the index of the <UNK> token if the token is not in the vocab.\n",
    "    \"\"\"\n",
    "    \n",
    "    return vocab['word2idx'].get(token, vocab['word2idx']['<UNK>'])"
   ]
  },
  {
   "cell_type": "code",
   "execution_count": 14,
   "id": "6113c1c9",
   "metadata": {},
   "outputs": [],
   "source": [
    "def lookup_index(vocab, index):\n",
    "    \"\"\"\n",
    "    Lookup an index in the vocab.\n",
    "    \n",
    "    Args:\n",
    "        vocab (dict): A dictionary of vocabularies.\n",
    "        index (int): An index to be looked up.\n",
    "        \n",
    "    Returns:\n",
    "        str: The token of the index in the vocab, or <UNK> if the index is not in the vocab.\n",
    "    \"\"\"\n",
    "    \n",
    "    return vocab['idx2word'].get(index, '<UNK>')"
   ]
  },
  {
   "cell_type": "code",
   "execution_count": 15,
   "id": "4c5e54b3",
   "metadata": {},
   "outputs": [],
   "source": [
    "def vocabulary_from_data(data, column, cutoff=25):\n",
    "    \"\"\"\n",
    "    Build the vocab from a dataframe.\n",
    "    \n",
    "    Args:\n",
    "        data: dataframe\n",
    "        column: the column that contains the text\n",
    "        cutoff: the minimum frequency of the token to be added to the vocab\n",
    "        \n",
    "    Returns:\n",
    "        vocab: a dictionary of vocabularies\n",
    "    \"\"\"\n",
    "    # Initialize the vocab\n",
    "    vocab = initialize_vocabulary()\n",
    "\n",
    "    # Loop through the data and count the frequency of each token\n",
    "    word_counter = Counter()\n",
    "    for text in data[column]:\n",
    "        # TODO: use spacy to tokenize the text\n",
    "        tokens = re.split('\\W+', text)\n",
    "        word_counter.update(tokens)\n",
    "\n",
    "    # Add the token to the vocab if the frequency is greater than cutoff\n",
    "    for word, count in word_counter.items():\n",
    "        if count > cutoff:\n",
    "            add_token(vocab, word)\n",
    "            \n",
    "    return vocab"
   ]
  },
  {
   "cell_type": "markdown",
   "id": "50a62f8f",
   "metadata": {},
   "source": [
    "### Let's build the vocab"
   ]
  },
  {
   "cell_type": "code",
   "execution_count": 17,
   "id": "ff1385c9",
   "metadata": {},
   "outputs": [],
   "source": [
    "vocab = vocabulary_from_data(df, 'review')"
   ]
  },
  {
   "cell_type": "code",
   "execution_count": 18,
   "id": "f97113cc",
   "metadata": {},
   "outputs": [
    {
     "data": {
      "text/plain": [
       "40"
      ]
     },
     "execution_count": 18,
     "metadata": {},
     "output_type": "execute_result"
    }
   ],
   "source": [
    "# Loop up word \"the\"\n",
    "lookup_token(vocab, 'the')"
   ]
  },
  {
   "cell_type": "code",
   "execution_count": 19,
   "id": "84ff3d11",
   "metadata": {},
   "outputs": [
    {
     "data": {
      "text/plain": [
       "'the'"
      ]
     },
     "execution_count": 19,
     "metadata": {},
     "output_type": "execute_result"
    }
   ],
   "source": [
    "# Loop up the index 40\n",
    "lookup_index(vocab, 40)"
   ]
  },
  {
   "cell_type": "code",
   "execution_count": 20,
   "id": "0a696bb1",
   "metadata": {},
   "outputs": [
    {
     "data": {
      "text/plain": [
       "0"
      ]
     },
     "execution_count": 20,
     "metadata": {},
     "output_type": "execute_result"
    }
   ],
   "source": [
    "# Loop up some unknown word\n",
    "lookup_token(vocab, 'unknown_word')"
   ]
  },
  {
   "cell_type": "code",
   "execution_count": 21,
   "id": "2ba05b8a",
   "metadata": {},
   "outputs": [
    {
     "data": {
      "text/plain": [
       "'<UNK>'"
      ]
     },
     "execution_count": 21,
     "metadata": {},
     "output_type": "execute_result"
    }
   ],
   "source": [
    "# Loop up the index 0\n",
    "lookup_index(vocab, 0)"
   ]
  },
  {
   "cell_type": "markdown",
   "id": "525ef7ce",
   "metadata": {},
   "source": [
    "### Onehot encode\n",
    "One-hot encoding is a technique used to represent categorical data as numerical data. In this technique, each category is represented as a binary vector where all elements are zero except for the element corresponding to the category, which is set to one. This allows categorical data to be used in machine learning algorithms that require numerical input. The `one_hot_encoding` function defined in the code snippet takes an index and a size as input and returns a one-hot encoded vector of the specified size with the element at the specified index set to one."
   ]
  },
  {
   "cell_type": "code",
   "execution_count": 22,
   "id": "18643212",
   "metadata": {},
   "outputs": [],
   "source": [
    "# Define a one-hot encoding function\n",
    "def one_hot_encoding(index, size):\n",
    "    \"\"\"\n",
    "    One-hot encoding for a given index and vocab size.\n",
    "    \"\"\"\n",
    "    encoding = np.zeros(size)\n",
    "    encoding[index] = 1\n",
    "    return encoding"
   ]
  },
  {
   "cell_type": "code",
   "execution_count": 24,
   "id": "35f820f1",
   "metadata": {},
   "outputs": [],
   "source": [
    "N = vocab['count']\n",
    "token = 'the'\n",
    "one_hot_vector = one_hot_encoding(lookup_token(vocab, token), N)"
   ]
  },
  {
   "cell_type": "code",
   "execution_count": 25,
   "id": "4a84748c",
   "metadata": {},
   "outputs": [
    {
     "name": "stdout",
     "output_type": "stream",
     "text": [
      "8948\n"
     ]
    }
   ],
   "source": [
    "print(N)"
   ]
  },
  {
   "cell_type": "code",
   "execution_count": 26,
   "id": "bb31cb54",
   "metadata": {},
   "outputs": [
    {
     "data": {
      "text/plain": [
       "array([0., 0., 0., 0., 0., 0., 0., 0., 0., 0., 0., 0., 0., 0., 0., 0., 0.,\n",
       "       0., 0., 0., 0., 0., 0., 0., 0., 0., 0., 0., 0., 0., 0., 0., 0., 0.,\n",
       "       0., 0., 0., 0., 0., 0., 1., 0., 0., 0., 0., 0., 0., 0., 0., 0., 0.,\n",
       "       0., 0., 0., 0., 0., 0., 0., 0., 0., 0., 0., 0., 0., 0., 0., 0., 0.,\n",
       "       0., 0., 0., 0., 0., 0., 0., 0., 0., 0., 0., 0.])"
      ]
     },
     "execution_count": 26,
     "metadata": {},
     "output_type": "execute_result"
    }
   ],
   "source": [
    "# Zoom in to see the one-hot vector with first 80 elements\n",
    "one_hot_vector[0:80]"
   ]
  },
  {
   "cell_type": "markdown",
   "id": "4a86aca6",
   "metadata": {},
   "source": [
    "### Encoding documents\n",
    "\n",
    "The text data in Yelp reviews is encoded using one-hot encoding. Each word in the reviews is represented as a feature, and a binary vector is created for each review where the element corresponding to the presence of the word in the review is set to one. This results in a sparse matrix where most of the elements are zero. The resulting matrix can be used as input to machine learning algorithms for tasks such as sentiment analysis and topic modeling."
   ]
  },
  {
   "cell_type": "code",
   "execution_count": 28,
   "id": "188642a6",
   "metadata": {},
   "outputs": [],
   "source": [
    "def encode_document(vocab, doc_tokens, N):\n",
    "    \"\"\"\n",
    "    Encode a document or a sentence. Return a sparse matrix, where each row is a one-hot vector for a token.\n",
    "\n",
    "    Args:\n",
    "        vocab (dict): A dictionary of vocabularies.\n",
    "        doc_tokens (list): A list of tokens in the document.\n",
    "        N (int): The size of the vocab.\n",
    "        \n",
    "    Returns:\n",
    "        sparse_matrix (numpy array): A sparse matrix, where each row is a one-hot vector for a token.\n",
    "    \"\"\"\n",
    "    # Initialize the sparse matrix\n",
    "    sparse_matrix = np.zeros((len(doc_tokens), N))\n",
    "\n",
    "    # Loop through the tokens and one-hot encode each token, using the one_hot_encoding function\n",
    "    for i, token in enumerate(doc_tokens):\n",
    "        sparse_matrix[i, :] = one_hot_encoding(lookup_token(vocab, token), N)\n",
    "\n",
    "    return sparse_matrix"
   ]
  },
  {
   "cell_type": "code",
   "execution_count": 29,
   "id": "e541e0de",
   "metadata": {},
   "outputs": [
    {
     "name": "stdout",
     "output_type": "stream",
     "text": [
      "The shape of the sparse matrix is (102, 8948)\n"
     ]
    }
   ],
   "source": [
    "# Let's test with the first review\n",
    "first_review = df['review'][0]\n",
    "first_review_tokens = re.split('\\W+', first_review)\n",
    "first_review_matrix = encode_document(vocab, first_review_tokens, N)\n",
    "print(f'The shape of the sparse matrix is {first_review_matrix.shape}')"
   ]
  },
  {
   "cell_type": "markdown",
   "id": "89295c75",
   "metadata": {},
   "source": [
    "Note: the number of rows corresponds to the number of tokens, and the number of columns corresponds to the number of unique words in the vocabulary."
   ]
  },
  {
   "cell_type": "code",
   "execution_count": 30,
   "id": "5d782d8f",
   "metadata": {},
   "outputs": [],
   "source": [
    "def encode_dataset(vocab, data, column, N):\n",
    "    \"\"\"\n",
    "    Encode the whole dataset. Return an array of sparse matrices, where each row is the mean of the one-hot vectors for a document.\n",
    "\n",
    "    Args:\n",
    "        vocab (dict): A dictionary of vocabularies.\n",
    "        data: dataframe\n",
    "        column: the column that contains the text\n",
    "        N (int): The size of the vocab.\n",
    "        \n",
    "    Returns:\n",
    "        sparse_matrix_array (numpy array): An array of sparse matrices, where each row is the mean of the one-hot vectors for a document.\n",
    "    \"\"\"\n",
    "    # Initialize the list of sparse matrices\n",
    "    sparse_matrix_array = np.zeros((len(data), N))\n",
    "\n",
    "    # Loop through the data and encode each document\n",
    "    for i, text in enumerate(data[column]):\n",
    "        # Split the document into tokens\n",
    "        doc_tokens = re.split('\\W+', text)\n",
    "\n",
    "        # Encode the document\n",
    "        sparse_matrix = encode_document(vocab, doc_tokens, N)\n",
    "\n",
    "        # The memory is limited, so we will reduce the matrix to one column, by calculating the mean\n",
    "        sparse_matrix_array[i, :] = np.mean(sparse_matrix, axis=0)\n",
    "\n",
    "    return sparse_matrix_array"
   ]
  },
  {
   "cell_type": "code",
   "execution_count": 31,
   "id": "17075e90",
   "metadata": {},
   "outputs": [],
   "source": [
    "# First, we split the data into training and validation sets\n",
    "X_train, X_val, y_train, y_val = train_test_split(df[['review']], df['rating'], test_size=0.3, random_state=42)"
   ]
  },
  {
   "cell_type": "code",
   "execution_count": 32,
   "id": "5102f0e7",
   "metadata": {},
   "outputs": [],
   "source": [
    "# Then we encode the training and validation sets\n",
    "X_train_encoded = encode_dataset(vocab, X_train, 'review', N)\n",
    "X_val_encoded = encode_dataset(vocab, X_val, 'review', N)"
   ]
  },
  {
   "cell_type": "code",
   "execution_count": 33,
   "id": "be61d15a",
   "metadata": {},
   "outputs": [
    {
     "name": "stdout",
     "output_type": "stream",
     "text": [
      "The shape of the encoded training set is (39200, 8948)\n",
      "The shape of the encoded validation set is (16800, 8948)\n"
     ]
    }
   ],
   "source": [
    "# Print the shape of the encoded training and validation sets\n",
    "print(f'The shape of the encoded training set is {X_train_encoded.shape}')\n",
    "print(f'The shape of the encoded validation set is {X_val_encoded.shape}')"
   ]
  },
  {
   "cell_type": "code",
   "execution_count": 35,
   "id": "291213fb",
   "metadata": {},
   "outputs": [],
   "source": [
    "# Change 'negative' to 0 and 'positive' to 1\n",
    "y_train = y_train.map({'negative': 0, 'positive': 1})\n",
    "y_val = y_val.map({'negative': 0, 'positive': 1})"
   ]
  },
  {
   "cell_type": "code",
   "execution_count": 36,
   "id": "a447db4d",
   "metadata": {},
   "outputs": [
    {
     "data": {
      "text/plain": [
       "29423    1\n",
       "54305    1\n",
       "25902    0\n",
       "36299    1\n",
       "28911    1\n",
       "36118    1\n",
       "8963     0\n",
       "23195    0\n",
       "14694    0\n",
       "40554    1\n",
       "Name: rating, dtype: int64"
      ]
     },
     "execution_count": 36,
     "metadata": {},
     "output_type": "execute_result"
    }
   ],
   "source": [
    "# Print 10 samples of the encoded training labels\n",
    "y_train.sample(10)"
   ]
  },
  {
   "cell_type": "code",
   "execution_count": 37,
   "id": "e4a8e069",
   "metadata": {},
   "outputs": [
    {
     "data": {
      "text/plain": [
       "Counter({1: 19603, 0: 19597})"
      ]
     },
     "execution_count": 37,
     "metadata": {},
     "output_type": "execute_result"
    }
   ],
   "source": [
    "# Count the unique values in the training labels\n",
    "Counter(y_train)"
   ]
  },
  {
   "cell_type": "markdown",
   "id": "0db4c56d",
   "metadata": {},
   "source": [
    "### Use Logistic Regression to predict"
   ]
  },
  {
   "cell_type": "code",
   "execution_count": 46,
   "id": "534773b7",
   "metadata": {},
   "outputs": [],
   "source": [
    "from sklearn.linear_model import LogisticRegression\n",
    "from sklearn.metrics import accuracy_score\n",
    "from sklearn.metrics import confusion_matrix\n",
    "import seaborn as sns"
   ]
  },
  {
   "cell_type": "code",
   "execution_count": 47,
   "id": "a3c27511",
   "metadata": {},
   "outputs": [],
   "source": [
    "# Initialize the model\n",
    "model = LogisticRegression()"
   ]
  },
  {
   "cell_type": "code",
   "execution_count": 48,
   "id": "b3b55f28",
   "metadata": {},
   "outputs": [],
   "source": [
    "# Fit the model\n",
    "model.fit(X_train_encoded, y_train)"
   ]
  },
  {
   "cell_type": "code",
   "execution_count": null,
   "id": "363c4d55",
   "metadata": {},
   "outputs": [],
   "source": [
    "# Make predictions\n",
    "y_pred = model.predict(X_val_encoded)"
   ]
  },
  {
   "cell_type": "code",
   "execution_count": null,
   "id": "7e224197",
   "metadata": {},
   "outputs": [
    {
     "name": "stdout",
     "output_type": "stream",
     "text": [
      "The accuracy of the Logistic Regression model on the testing set: 0.8203571428571429\n",
      "The accuracy of the Logistic Regression model on the training set: 0.8152551020408163\n"
     ]
    }
   ],
   "source": [
    "# Evaluate the model\n",
    "print(f'The accuracy of the Logistic Regression model on the testing set: {accuracy_score(y_val, y_pred)}')\n",
    "print(f'The accuracy of the Logistic Regression model on the training set: {accuracy_score(y_train, model.predict(X_train_encoded))}')"
   ]
  },
  {
   "cell_type": "code",
   "execution_count": null,
   "id": "1c5224d4",
   "metadata": {},
   "outputs": [
    {
     "data": {
      "text/plain": [
       "<Axes: >"
      ]
     },
     "execution_count": 45,
     "metadata": {},
     "output_type": "execute_result"
    },
    {
     "data": {
      "image/png": "[encoded data removed]",
      "text/plain": [
       "<Figure size 640x480 with 2 Axes>"
      ]
     },
     "metadata": {},
     "output_type": "display_data"
    }
   ],
   "source": [
    "# Plot the confusion matrix\n",
    "cm = confusion_matrix(y_val, y_pred)\n",
    "sns.heatmap(cm, annot=True, fmt='d', cmap='Blues')"
   ]
  }
 ],
 "metadata": {
  "kernelspec": {
   "display_name": "Python 3",
   "language": "python",
   "name": "python3"
  },
  "language_info": {
   "codemirror_mode": {
    "name": "ipython",
    "version": 3
   },
   "file_extension": ".py",
   "mimetype": "text/x-python",
   "name": "python",
   "nbconvert_exporter": "python",
   "pygments_lexer": "ipython3",
   "version": "3.10.13"
  }
 },
 "nbformat": 4,
 "nbformat_minor": 5
}
