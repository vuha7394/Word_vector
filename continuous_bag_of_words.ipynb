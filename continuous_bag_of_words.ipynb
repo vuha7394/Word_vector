{
 "cells": [
  {
   "cell_type": "markdown",
   "metadata": {},
   "source": [
    "### Continuous Bag of Words (CBOW) Model\n",
    "\n",
    "The CBOW model architecture tries to predict the current target word (the center word) based on the source context words (surrounding words). Considering a simple sentence, __\"the quick brown fox jumps over the lazy dog\"__, this can be pairs of __(context_window, target_word)__ where if we consider a context window of size 2, we have examples like __([quick, fox], brown), ([the, brown], quick), ([the, dog], lazy)__ and so on. Thus the model tries to predict the __target_word__ based on the __context_window_words__."
   ]
  },
  {
   "cell_type": "code",
   "execution_count": 9,
   "metadata": {},
   "outputs": [],
   "source": [
    "import spacy\n",
    "import numpy as np\n",
    "import re\n",
    "import matplotlib.pyplot as plt\n",
    "from helpers import vocab_utils\n",
    "from tqdm import tqdm\n",
    "\n",
    "# Pytorch\n",
    "import torch\n",
    "import torch.nn as nn"
   ]
  },
  {
   "cell_type": "code",
   "execution_count": 10,
   "metadata": {},
   "outputs": [],
   "source": [
    "# Make sure that the spacy english model is installed\n",
    "if not spacy.util.is_package(\"en_core_web_sm\"):\n",
    "    spacy.cli.download(\"en_core_web_sm\")\n",
    "    \n",
    "# Load the english model\n",
    "nlp = spacy.load(\"en_core_web_sm\", disable=[\"ner\"])"
   ]
  },
  {
   "cell_type": "code",
   "execution_count": 11,
   "metadata": {},
   "outputs": [
    {
     "name": "stdout",
     "output_type": "stream",
     "text": [
      "ACT I SCENE I.\n",
      "Enter KING HENRY, LORD JOHN OF LANCASTER, the EARL of WESTMORELAND, SIR WALTER BLUNT, and others So shaken as we are, so wan with care, Find we a time for frighted peace to pant, And breathe short-winded accents of new broils To be commenced in strands afar remote.\n",
      "No more the thirsty entrance of this soil Shall daub her lips with her own children's blood, Nor more shall trenching war channel her fields, Nor bruise her flowerets with the armed hoofs Of hostile paces: those opposed eyes, Which, like the meteors of a troubled heaven, All of one nature, of one substance bred, Did lately meet in the intestine shock And furious close of civil butchery Shall now, in mutual well-beseeming ranks, March all one way and be no more opposed Against acquaintance, kindred and allies: The edge of war, like an ill-sheathed knife, No more shall cut his master.\n",
      "As far as to the sepulchre of Christ, Whose soldier now, under whose blessed cross We are impressed and engaged to fight, Forthwith a power of English shall we levy, Whose arms were moulded in their mothers' womb To chase these pagans in those holy fields Over whose acres walk'd those blessed feet Which fourteen hundred years ago were nail'd For our advantage on the bitter cross.\n",
      "But this our purpose now is twelve month old, And bootless 'tis to tell you we will go: Therefore we meet not now.\n",
      "Of you, my gentle cousin Westmoreland, What yesternight our council did decree In forwarding this dear expedience.\n",
      "My liege, this haste was hot in question, And many limits of the charge set down But yesternight: when all athwart there came A post from Wales loaden with heavy news, Whose worst was, that the noble Mortimer, Leading the men of Herefordshire to fight Against the irregular and wild Glendower, Was by the rude hands of that Welshman taken, A thousand of his people butchered, Upon whose dead corpse there was such misuse, Such beastly shameless transformation, By those Welshwomen done as may not be Without much shame retold or spoken of.\n",
      "It seems then that the tidings of this broil Brake off our business for the Holy Land.\n",
      "This match'd with other did, my gracious lord, For more uneven and unwelcome news Came from the north and thus it did import: On Holy-rood day, the gallant Hotspur there, Young Harry Percy and brave Archibald, That ever-valiant and approved Scot, At Holmedon met, Where they did spend a sad and bloody hour, As by discharge of their artillery, And shape of likelihood, the news was told, For he that brought them, in the very heat And pride of their contention did take horse, Uncertain of the issue any way.\n",
      "Here is a dear, a true industrious friend, Sir Walter Blunt, new lighted from his horse.\n"
     ]
    }
   ],
   "source": [
    "# The shakespeare.txt contains multiple lines of text, quoted with double quotes.\n",
    "# Let's read each line and remove the double quotes, then append the line to a list.\n",
    "read_lines = []\n",
    "with open('Data/shakespeare.txt') as f:\n",
    "    for line in f:\n",
    "        # Regular expression to remove double quotes at beginning and end of line\n",
    "        line = re.sub(r'^\"|\"\\n$', '', line)\n",
    "        read_lines.append(line)\n",
    "        \n",
    "# We will combine lines that end with a dot as a single sentence.\n",
    "sentences = []\n",
    "current_sentence = ''\n",
    "for i in range(len(read_lines)):\n",
    "    # Find the first index of a dot in the line. If it exists, append the line to the current sentence containing the dot, cut off the rest of the line, decrease the i counter by 1 and continue.\n",
    "    # If it doesn't exist, append the line to the current sentence and continue.\n",
    "    dot_index = read_lines[i].find('.')\n",
    "    \n",
    "    if dot_index != -1:\n",
    "        # Append the line to the current sentence\n",
    "        current_sentence +=  ' ' + read_lines[i][:dot_index+1]\n",
    "        # Cut off the rest of the line\n",
    "        read_lines[i] = read_lines[i][dot_index+1:]\n",
    "        # Append the current sentence to the list of sentences\n",
    "        sentences.append(current_sentence.strip())\n",
    "        # Reset the current sentence\n",
    "        current_sentence = ''\n",
    "        # Decrease the i counter by 1 so that the current line is processed again\n",
    "        i -= 1\n",
    "    else:\n",
    "        # Append the line to the current sentence\n",
    "        current_sentence += ' ' + read_lines[i]\n",
    "        \n",
    "# If the current sentence is not empty, append it to the list of sentences as well\n",
    "if current_sentence != '':\n",
    "    sentences.append(current_sentence.strip())\n",
    "    \n",
    "# Let's print the first 10 sentences\n",
    "for i in range(10):\n",
    "    print(sentences[i])"
   ]
  },
  {
   "cell_type": "code",
   "execution_count": 12,
   "metadata": {},
   "outputs": [],
   "source": [
    "# Use spacy tokenizer to clean the text\n",
    "def spacy_text_clean(text):\n",
    "    \"\"\"\n",
    "    This function uses the spacy tokenizer to clean the text\n",
    "    \n",
    "    Args:\n",
    "        text (str): The text to be cleaned\n",
    "        \n",
    "    Returns:\n",
    "        tokens: A list of tokens that have been cleaned\n",
    "    \"\"\"\n",
    "    \n",
    "    # Create a spacy object\n",
    "    doc = nlp(text)\n",
    "    \n",
    "    # Tokenize the text\n",
    "    tokens = []\n",
    "    for token in doc:\n",
    "        if token.is_alpha:\n",
    "            tokens.append(token.lower_)\n",
    "        elif token.is_punct:\n",
    "            tokens.append(token.text)\n",
    "    \n",
    "    return tokens"
   ]
  },
  {
   "cell_type": "code",
   "execution_count": 13,
   "metadata": {},
   "outputs": [
    {
     "name": "stdout",
     "output_type": "stream",
     "text": [
      "['hello', ',', 'world', '!', 'this', 'is', 'a', 'test', '.']\n"
     ]
    }
   ],
   "source": [
    "# Test the function\n",
    "text = \"Hello, world! This is a test.\"\n",
    "print(spacy_text_clean(text))"
   ]
  },
  {
   "cell_type": "code",
   "execution_count": 14,
   "metadata": {},
   "outputs": [
    {
     "name": "stderr",
     "output_type": "stream",
     "text": [
      "  0%|          | 0/341 [00:00<?, ?it/s]"
     ]
    },
    {
     "name": "stderr",
     "output_type": "stream",
     "text": [
      "100%|██████████| 341/341 [00:55<00:00,  6.10it/s]\n"
     ]
    }
   ],
   "source": [
    "# Initialize the token list\n",
    "cleaned_tokens = []\n",
    "\n",
    "# For each batch of sentences, append them then clean them\n",
    "batch = 100\n",
    "for i in tqdm(range(0, len(sentences), batch)):\n",
    "    cleaned_tokens.extend(spacy_text_clean(' '.join(sentences[i:i+batch])))"
   ]
  },
  {
   "cell_type": "code",
   "execution_count": 15,
   "metadata": {},
   "outputs": [
    {
     "name": "stdout",
     "output_type": "stream",
     "text": [
      "946795\n"
     ]
    }
   ],
   "source": [
    "# Print the size of the cleaned tokens\n",
    "print(len(cleaned_tokens))"
   ]
  },
  {
   "cell_type": "code",
   "execution_count": 16,
   "metadata": {},
   "outputs": [
    {
     "name": "stdout",
     "output_type": "stream",
     "text": [
      "['act', 'i', 'scene', 'enter', 'king', 'henry', ',', 'lord', 'john', 'of', 'lancaster', ',', 'the', 'earl', 'of', 'westmoreland', ',', 'sir', 'walter', 'blunt', ',', 'and', 'others', 'so', 'shaken', 'as', 'we', 'are', ',', 'so', 'wan', 'with', 'care', ',', 'find', 'we', 'a', 'time', 'for', 'frighted', 'peace', 'to', 'pant', ',', 'and', 'breathe', 'short', '-', 'winded', 'accents', 'of', 'new', 'broils', 'to', 'be', 'commenced', 'in', 'strands', 'afar', 'remote', '.', 'no', 'more', 'the', 'thirsty', 'entrance', 'of', 'this', 'soil', 'shall', 'daub', 'her', 'lips', 'with', 'her', 'own', 'children', 'blood', ',', 'nor', 'more', 'shall', 'trenching', 'war', 'channel', 'her', 'fields', ',', 'nor', 'bruise', 'her', 'flowerets', 'with', 'the', 'armed', 'hoofs', 'of', 'hostile', 'paces', ':', 'those', 'opposed', 'eyes', ',', 'which', ',', 'like', 'the', 'meteors', 'of', 'a', 'troubled', 'heaven', ',', 'all', 'of', 'one', 'nature', ',', 'of', 'one', 'substance', 'bred', ',', 'did', 'lately', 'meet', 'in', 'the', 'intestine', 'shock', 'and', 'furious', 'close', 'of', 'civil', 'butchery', 'shall', 'now', ',', 'in', 'mutual', 'well', '-', 'beseeming', 'ranks', ',', 'march', 'all', 'one', 'way', 'and', 'be', 'no', 'more', 'opposed', 'against', 'acquaintance', ',', 'kindred', 'and', 'allies', ':', 'the', 'edge', 'of', 'war', ',', 'like', 'an', 'ill', '-', 'sheathed', 'knife', ',', 'no', 'more', 'shall', 'cut', 'his', 'master', '.', 'as', 'far', 'as', 'to', 'the', 'sepulchre', 'of', 'christ', ',', 'whose', 'soldier', 'now', ',', 'under', 'whose', 'blessed', 'cross', 'we', 'are', 'impressed', 'and', 'engaged', 'to', 'fight', ',', 'forthwith', 'a', 'power', 'of', 'english', 'shall', 'we', 'levy', ',', 'whose', 'arms', 'were', 'moulded', 'in', 'their', 'mothers', \"'\", 'womb', 'to', 'chase', 'these', 'pagans', 'in', 'those', 'holy', 'fields', 'over', 'whose', 'acres', 'those', 'blessed', 'feet', 'which', 'fourteen', 'hundred', 'years', 'ago', 'were', 'for', 'our', 'advantage', 'on', 'the', 'bitter', 'cross', '.', 'but', 'this', 'our', 'purpose', 'now', 'is', 'twelve', 'month', 'old', ',', 'and', 'bootless', \"'\", 'tis', 'to', 'tell', 'you', 'we', 'will', 'go', ':', 'therefore', 'we', 'meet', 'not', 'now', '.', 'of', 'you', ',', 'my', 'gentle', 'cousin', 'westmoreland', ',', 'what', 'yesternight', 'our', 'council', 'did', 'decree', 'in', 'forwarding', 'this', 'dear', 'expedience', '.', 'my', 'liege', ',', 'this', 'haste', 'was', 'hot', 'in', 'question', ',', 'and', 'many', 'limits', 'of', 'the', 'charge', 'set', 'down', 'but', 'yesternight', ':', 'when', 'all', 'athwart', 'there', 'came', 'a', 'post', 'from', 'wales', 'loaden', 'with', 'heavy', 'news', ',', 'whose', 'worst', 'was', ',', 'that', 'the', 'noble', 'mortimer', ',', 'leading', 'the', 'men', 'of', 'herefordshire', 'to', 'fight', 'against', 'the', 'irregular', 'and', 'wild', 'glendower', ',', 'was', 'by', 'the', 'rude', 'hands', 'of', 'that', 'welshman', 'taken', ',', 'a', 'thousand', 'of', 'his', 'people', 'butchered', ',', 'upon', 'whose', 'dead', 'corpse', 'there', 'was', 'such', 'misuse', ',', 'such', 'beastly', 'shameless', 'transformation', ',', 'by', 'those', 'welshwomen', 'done', 'as', 'may', 'not', 'be', 'without', 'much', 'shame', 'retold', 'or', 'spoken', 'of', '.', 'it', 'seems', 'then', 'that', 'the', 'tidings', 'of', 'this', 'broil', 'brake', 'off', 'our', 'business', 'for', 'the', 'holy', 'land', '.', 'this', 'with', 'other', 'did', ',', 'my', 'gracious', 'lord', ',', 'for', 'more', 'uneven', 'and', 'unwelcome', 'news', 'came', 'from', 'the', 'north', 'and', 'thus', 'it', 'did', 'import', ':', 'on', 'holy', '-', 'rood', 'day', ',', 'the', 'gallant', 'hotspur', 'there', ',', 'young', 'harry', 'percy', 'and', 'brave', 'archibald', ',', 'that', 'ever', '-', 'valiant', 'and', 'approved', 'scot', ',', 'at', 'holmedon', 'met', ',', 'where', 'they', 'did', 'spend', 'a', 'sad', 'and', 'bloody', 'hour', ',', 'as', 'by', 'discharge', 'of', 'their', 'artillery', ',', 'and', 'shape', 'of', 'likelihood', ',', 'the', 'news', 'was', 'told', ',', 'for', 'he', 'that', 'brought', 'them', ',', 'in', 'the', 'very', 'heat', 'and', 'pride', 'of', 'their', 'contention', 'did', 'take', 'horse', ',', 'uncertain', 'of', 'the', 'issue', 'any', 'way', '.', 'here', 'is', 'a', 'dear', ',', 'a', 'true', 'industrious', 'friend', ',', 'sir', 'walter', 'blunt', ',', 'new', 'lighted', 'from', 'his', 'horse', '.', 'with', 'the', 'variation', 'of', 'each', 'soil', 'betwixt', 'that', 'holmedon', 'and', 'this', 'seat', 'of', 'ours', ',', 'and', 'he', 'hath', 'brought', 'us', 'smooth', 'and', 'welcome', 'news', '.', 'the', 'earl', 'of', 'douglas', 'is', 'discomfited', ':', 'ten', 'thousand', 'bold', 'scots', ',', 'two', 'and', 'twenty', 'knights', ',', 'in', 'their', 'own', 'blood', 'did', 'sir', 'walter', 'see', 'on', 'holmedon', 'plains', '.', 'mordake', 'the', 'earl', 'of', 'fife', ',', 'and', 'eldest', 'son', 'to', 'beaten', 'douglas', ',', 'and', 'the', 'earl', 'of', 'athol', ',', 'of', 'murray', ',', 'angus', ',', 'and', 'menteith', ':', 'and', 'is', 'not', 'this', 'an', 'honourable', 'spoil', '?', 'a', 'gallant', 'prize', '?', 'ha', ',', 'cousin', ',', 'is', 'it', 'not', '?', 'in', 'faith', ',', 'it', 'is', 'a', 'conquest', 'for', 'a', 'prince', 'to', 'boast', 'of', '.', 'yea', ',', 'there', 'thou', 'makest', 'me', 'sad', 'and', 'makest', 'me', 'sin', 'in', 'envy', 'that', 'my', 'lord', 'northumberland', 'should', 'be', 'the', 'father', 'to', 'so', 'blest', 'a', 'son', ',', 'a', 'son', 'who', 'is', 'the', 'theme', 'of', 'honour', 'tongue', ',', 'amongst', 'a', 'grove', ',', 'the', 'very', 'straightest', 'plant', ',', 'who', 'is', 'sweet', 'fortune', 'minion', 'and', 'her', 'pride', ':', 'whilst', 'i', ',', 'by', 'looking', 'on', 'the', 'praise', 'of', 'him', ',', 'see', 'riot', 'and', 'dishonour', 'stain', 'the', 'brow', 'of', 'my', 'young', 'harry', '.', 'that', 'some', 'night', '-', 'tripping', 'fairy', 'had', 'exchanged', 'in', 'cradle', '-', 'clothes', 'our', 'children', 'where', 'they', 'lay', ',', 'and', 'mine', 'percy', ',', 'his', 'plantagenet', '!', 'then', 'would', 'i', 'have', 'his', 'harry', ',', 'and', 'he', 'mine', '.', 'but', 'let', 'him', 'from', 'my', 'thoughts', '.', 'of', 'this', 'young', 'percy', 'pride', '?', 'the', 'prisoners', ',', 'which', 'he', 'in', 'this', 'adventure', 'hath', 'surprised', ',', 'to', 'his', 'own', 'use', 'he', 'keeps', ',', 'and', 'sends', 'me', 'word', ',', 'i', 'shall', 'have', 'none', 'but', 'mordake', 'earl', 'of', 'fife', '.', 'this', 'is', 'his', 'uncle', 'teaching', ',', 'this', 'is', 'worcester', ',', 'malevolent', 'to', 'you', 'in', 'all', 'aspects', ',', 'which', 'makes', 'him', 'prune', 'himself', ',', 'and', 'bristle', 'up', 'the', 'crest', 'of', 'youth', 'against', 'your', 'dignity', '.', 'but', 'i', 'have', 'sent', 'for', 'him', 'to', 'answer', 'this', ',', 'and', 'for', 'this', 'cause', 'awhile', 'we', 'must', 'neglect', 'our', 'holy', 'purpose', 'to', 'jerusalem', '.', 'cousin', ',', 'on', 'wednesday', 'next', 'our', 'council', 'we', 'will', 'hold', 'at', 'windsor', ',', 'so', 'inform', 'the', 'lords', ':', 'but', 'come', 'yourself', 'with', 'speed', 'to', 'us', 'again', ',', 'for', 'more', 'is', 'to', 'be', 'said', 'and', 'to', 'be', 'done', 'than', 'out', 'of', 'anger', 'can', 'be', 'uttered', '.', 'i', 'will', ',', 'my', 'liege', '.', 'exeunt', 'scene', 'ii', '.', 'enter', 'the', 'prince', 'of', 'wales', 'and', 'falstaff', 'now', ',', 'hal', ',', 'what', 'time', 'of', 'day', 'is', 'it', ',', 'lad', '?', 'thou', 'art', 'so', 'fat', '-', 'witted', ',', 'with', 'drinking', 'of', 'old', 'sack', 'and', 'unbuttoning', 'thee', 'after', 'supper', 'and', 'sleeping', 'upon', 'benches', 'after', 'noon', ',', 'that', 'thou', 'hast', 'forgotten', 'to', 'demand', 'that', 'truly', 'which', 'thou', 'wouldst', 'truly', 'know', '.', 'what', 'a', 'devil']\n"
     ]
    }
   ],
   "source": [
    "# Print the first 1000 tokens\n",
    "print(cleaned_tokens[:1000])"
   ]
  },
  {
   "cell_type": "markdown",
   "metadata": {},
   "source": [
    "### Build a vocabulary of words from our dataset"
   ]
  },
  {
   "cell_type": "code",
   "execution_count": 17,
   "metadata": {},
   "outputs": [],
   "source": [
    "# Build a vocabulary from the tokens, with cutoff of 25\n",
    "vocab = vocab_utils.vocabulary_from_tokens(cleaned_tokens)"
   ]
  },
  {
   "cell_type": "code",
   "execution_count": 18,
   "metadata": {},
   "outputs": [
    {
     "name": "stdout",
     "output_type": "stream",
     "text": [
      "Vocabulary size: 2517\n"
     ]
    }
   ],
   "source": [
    "# Print the size of the vocabulary\n",
    "print(\"Vocabulary size:\", vocab['count'])"
   ]
  },
  {
   "cell_type": "code",
   "execution_count": 19,
   "metadata": {},
   "outputs": [
    {
     "name": "stdout",
     "output_type": "stream",
     "text": [
      "First 100 words in the vocabulary: ['<UNK>', '<PAD>', '<EOS>', 'act', 'i', 'scene', 'enter', 'king', 'henry', ',', 'lord', 'john', 'of', 'lancaster', 'the', 'earl', 'westmoreland', 'sir', 'blunt', 'and', 'others', 'so', 'as', 'we', 'are', 'with', 'care', 'find', 'a', 'time', 'for', 'peace', 'to', 'breathe', 'short', '-', 'new', 'be', 'in', '.', 'no', 'more', 'this', 'shall', 'her', 'lips', 'own', 'children', 'blood', 'nor', 'war', 'fields', 'armed', ':', 'those', 'opposed', 'eyes', 'which', 'like', 'troubled', 'heaven', 'all', 'one', 'nature', 'substance', 'bred', 'did', 'lately', 'meet', 'close', 'civil', 'now', 'well', 'march', 'way', 'against', 'acquaintance', 'kindred', 'edge', 'an', 'ill', 'knife', 'cut', 'his', 'master', 'far', 'whose', 'soldier', 'under', 'blessed', 'cross', 'fight', 'power', 'english', 'arms', 'were', 'their', \"'\", 'womb', 'chase']\n"
     ]
    }
   ],
   "source": [
    "# Print the first 100 words in the vocabulary\n",
    "print(\"First 100 words in the vocabulary:\", list(vocab['word2idx'].keys())[:100])"
   ]
  },
  {
   "cell_type": "markdown",
   "metadata": {},
   "source": [
    "### Prepare data for CBOW model"
   ]
  },
  {
   "cell_type": "code",
   "execution_count": 20,
   "metadata": {},
   "outputs": [],
   "source": [
    "def extract_context_target(sentence, window_size=2):\n",
    "    \"\"\"\n",
    "    This function extracts the context and target words from a sentence\n",
    "    \n",
    "    Args:\n",
    "        sentence (list): A list of tokens in the sentence\n",
    "        window_size (int): The size of the context window\n",
    "        \n",
    "    Returns:\n",
    "        context_target_pairs (list): A list of tuples containing the context and target words\n",
    "    \"\"\"\n",
    "    \n",
    "    # Initialize the list of context and target pairs\n",
    "    context_target_pairs = []\n",
    "    \n",
    "    # For each word in the sentence\n",
    "    for i in range(len(sentence)):\n",
    "        # Extract the context words\n",
    "        context_words = []\n",
    "        for j in range(i-window_size, i+window_size+1):\n",
    "            if j != i and j >= 0 and j < len(sentence):\n",
    "                context_words.append(sentence[j])\n",
    "        \n",
    "        # Extract the target word\n",
    "        target_word = sentence[i]\n",
    "        \n",
    "        # Append the context and target words to the list of pairs only if the context words containing enough words\n",
    "        if len(context_words) == 2*window_size:\n",
    "            context_target_pairs.append((context_words, target_word))\n",
    "        \n",
    "    return context_target_pairs"
   ]
  },
  {
   "cell_type": "code",
   "execution_count": 21,
   "metadata": {},
   "outputs": [
    {
     "name": "stdout",
     "output_type": "stream",
     "text": [
      "Enter KING HENRY, LORD JOHN OF LANCASTER, the EARL of WESTMORELAND, SIR WALTER BLUNT, and others So shaken as we are, so wan with care, Find we a time for frighted peace to pant, And breathe short-winded accents of new broils To be commenced in strands afar remote.\n",
      "['enter', 'king', 'henry', ',', 'lord', 'john', 'of', 'lancaster', ',', 'the', 'earl', 'of', 'westmoreland', ',', 'sir', 'walter', 'blunt', ',', 'and', 'others', 'so', 'shaken', 'as', 'we', 'are', ',', 'so', 'wan', 'with', 'care', ',', 'find', 'we', 'a', 'time', 'for', 'frighted', 'peace', 'to', 'pant', ',', 'and', 'breathe', 'short', '-', 'winded', 'accents', 'of', 'new', 'broils', 'to', 'be', 'commenced', 'in', 'strands', 'afar', 'remote', '.']\n",
      "[(['enter', 'king', ',', 'lord'], 'henry'), (['king', 'henry', 'lord', 'john'], ','), (['henry', ',', 'john', 'of'], 'lord'), ([',', 'lord', 'of', 'lancaster'], 'john'), (['lord', 'john', 'lancaster', ','], 'of'), (['john', 'of', ',', 'the'], 'lancaster'), (['of', 'lancaster', 'the', 'earl'], ','), (['lancaster', ',', 'earl', 'of'], 'the'), ([',', 'the', 'of', 'westmoreland'], 'earl'), (['the', 'earl', 'westmoreland', ','], 'of'), (['earl', 'of', ',', 'sir'], 'westmoreland'), (['of', 'westmoreland', 'sir', 'walter'], ','), (['westmoreland', ',', 'walter', 'blunt'], 'sir'), ([',', 'sir', 'blunt', ','], 'walter'), (['sir', 'walter', ',', 'and'], 'blunt'), (['walter', 'blunt', 'and', 'others'], ','), (['blunt', ',', 'others', 'so'], 'and'), ([',', 'and', 'so', 'shaken'], 'others'), (['and', 'others', 'shaken', 'as'], 'so'), (['others', 'so', 'as', 'we'], 'shaken'), (['so', 'shaken', 'we', 'are'], 'as'), (['shaken', 'as', 'are', ','], 'we'), (['as', 'we', ',', 'so'], 'are'), (['we', 'are', 'so', 'wan'], ','), (['are', ',', 'wan', 'with'], 'so'), ([',', 'so', 'with', 'care'], 'wan'), (['so', 'wan', 'care', ','], 'with'), (['wan', 'with', ',', 'find'], 'care'), (['with', 'care', 'find', 'we'], ','), (['care', ',', 'we', 'a'], 'find'), ([',', 'find', 'a', 'time'], 'we'), (['find', 'we', 'time', 'for'], 'a'), (['we', 'a', 'for', 'frighted'], 'time'), (['a', 'time', 'frighted', 'peace'], 'for'), (['time', 'for', 'peace', 'to'], 'frighted'), (['for', 'frighted', 'to', 'pant'], 'peace'), (['frighted', 'peace', 'pant', ','], 'to'), (['peace', 'to', ',', 'and'], 'pant'), (['to', 'pant', 'and', 'breathe'], ','), (['pant', ',', 'breathe', 'short'], 'and'), ([',', 'and', 'short', '-'], 'breathe'), (['and', 'breathe', '-', 'winded'], 'short'), (['breathe', 'short', 'winded', 'accents'], '-'), (['short', '-', 'accents', 'of'], 'winded'), (['-', 'winded', 'of', 'new'], 'accents'), (['winded', 'accents', 'new', 'broils'], 'of'), (['accents', 'of', 'broils', 'to'], 'new'), (['of', 'new', 'to', 'be'], 'broils'), (['new', 'broils', 'be', 'commenced'], 'to'), (['broils', 'to', 'commenced', 'in'], 'be'), (['to', 'be', 'in', 'strands'], 'commenced'), (['be', 'commenced', 'strands', 'afar'], 'in'), (['commenced', 'in', 'afar', 'remote'], 'strands'), (['in', 'strands', 'remote', '.'], 'afar')]\n"
     ]
    }
   ],
   "source": [
    "## Test the function\n",
    "sentence = sentences[1]\n",
    "print(sentence)\n",
    "\n",
    "# Tokenize the sentence\n",
    "tokens = spacy_text_clean(sentence)\n",
    "print(tokens)\n",
    "\n",
    "# Extract the context and target words\n",
    "context_target_pairs = extract_context_target(tokens)\n",
    "print(context_target_pairs)"
   ]
  },
  {
   "cell_type": "code",
   "execution_count": 22,
   "metadata": {},
   "outputs": [],
   "source": [
    "# Define a function create a one-hot vector from a word\n",
    "def one_hot_vector(vocab, word):\n",
    "    \"\"\"\n",
    "    This function creates a one-hot vector from a word\n",
    "    \n",
    "    Args:\n",
    "        vocab (dict): The vocabulary dictionary\n",
    "        word (str): The word to be converted to a one-hot vector\n",
    "        \n",
    "    Returns:\n",
    "        one_hot (np.array): A one-hot vector representation of the word\n",
    "    \"\"\"\n",
    "    \n",
    "    # Initialize the one-hot vector\n",
    "    one_hot = np.zeros(vocab['count'])\n",
    "    \n",
    "    # Set the index of the word to 1\n",
    "    one_hot[vocab_utils.lookup_token(vocab, word)] = 1\n",
    "    \n",
    "    return one_hot"
   ]
  },
  {
   "cell_type": "code",
   "execution_count": 23,
   "metadata": {},
   "outputs": [
    {
     "name": "stdout",
     "output_type": "stream",
     "text": [
      "[0. 0. 0. ... 0. 0. 0.]\n"
     ]
    }
   ],
   "source": [
    "# Test the function\n",
    "word = 'king'\n",
    "one_hot = one_hot_vector(vocab, word)\n",
    "print(one_hot)"
   ]
  },
  {
   "cell_type": "code",
   "execution_count": 24,
   "metadata": {},
   "outputs": [],
   "source": [
    "def generate_context_target_pairs(sentences, window_size=2):\n",
    "    \"\"\"\n",
    "    This function generates the context and target pairs from a list of sentences\n",
    "    \n",
    "    Args:\n",
    "        sentences (list): A list of sentences\n",
    "        window_size (int): The size of the context window\n",
    "        \n",
    "    Returns:\n",
    "        context_target_pairs (list): A list of tuples containing the context and target words\n",
    "    \"\"\"\n",
    "    \n",
    "    # Initialize the list of context and target pairs\n",
    "    context_target_pairs = []\n",
    "    \n",
    "    # For each sentence\n",
    "    print(f'Generating context and target pairs from {len(sentences)} sentences')\n",
    "    for sentence in tqdm(sentences):\n",
    "        # Tokenize the sentence\n",
    "        tokens = spacy_text_clean(sentence)\n",
    "        \n",
    "        # Extract the context and target words\n",
    "        pairs = extract_context_target(tokens, window_size)\n",
    "        \n",
    "        # Append the pairs to the list of context and target pairs\n",
    "        context_target_pairs.extend(pairs)\n",
    "        \n",
    "    # Shuffle the pairs\n",
    "    np.random.shuffle(context_target_pairs)\n",
    "        \n",
    "    return context_target_pairs"
   ]
  },
  {
   "cell_type": "code",
   "execution_count": 25,
   "metadata": {},
   "outputs": [],
   "source": [
    "def context_target_to_one_hot(vocab, context_target_pairs, batch_size=128):\n",
    "    \"\"\"\n",
    "    This function yields a batch of context and target one-hot vectors from a list of sentences\n",
    "    \n",
    "    Args:\n",
    "        vocab (dict): The vocabulary dictionary\n",
    "        context_target_pairs (list): A list of tuples containing the context and target words\n",
    "        batch_size (int): The batch size\n",
    "        \n",
    "    Returns:\n",
    "        yield (tuple): A tuple containing the context and target one-hot vectors\n",
    "    \"\"\"\n",
    "    \n",
    "    # For each batch of context and target pairs\n",
    "    for i in range(0, len(context_target_pairs), batch_size):\n",
    "        # If i is equal to or greater than the length of the context and target pairs, break\n",
    "        if i >= len(context_target_pairs):\n",
    "            break\n",
    "        \n",
    "        # Initialize the context and target one-hot vectors\n",
    "        context_one_hot = np.zeros((batch_size, vocab['count']))\n",
    "        target_one_hot = np.zeros((batch_size, vocab['count']))\n",
    "        \n",
    "        # For each pair in the batch\n",
    "        for j in range(i, i+batch_size):\n",
    "            # Avoid index out of bounds\n",
    "            if j >= len(context_target_pairs):\n",
    "                # Change j to the last index\n",
    "                j = len(context_target_pairs)-1\n",
    "            \n",
    "            # Extract the context and target words\n",
    "            context_words, target_word = context_target_pairs[j]\n",
    "            \n",
    "            # Create the context one-hot vector\n",
    "            context_one_hot[j-i] = np.mean([one_hot_vector(vocab, word) for word in context_words], axis=0)\n",
    "            \n",
    "            # Create the target one-hot vector\n",
    "            target_one_hot[j-i] = one_hot_vector(vocab, target_word)\n",
    "        \n",
    "        # Preferably, yield the context and target one-hot vectors as torch tensors on the GPU\n",
    "        # yield (torch.from_numpy(context_one_hot).float(), torch.from_numpy(target_one_hot).float())\n",
    "        if torch.cuda.is_available():\n",
    "            yield (torch.from_numpy(context_one_hot).float().cuda(), torch.from_numpy(target_one_hot).float().cuda())\n",
    "        else:\n",
    "            yield (torch.from_numpy(context_one_hot).float(), torch.from_numpy(target_one_hot).float())"
   ]
  },
  {
   "cell_type": "markdown",
   "metadata": {},
   "source": [
    "### Create CBOW model architecture"
   ]
  },
  {
   "cell_type": "code",
   "execution_count": 33,
   "metadata": {},
   "outputs": [],
   "source": [
    "def initialize_model(vocab_size, embedding_dim):\n",
    "    \"\"\"\n",
    "    This function initializes a continuous bag of words model\n",
    "    \n",
    "    Args:\n",
    "        vocab_size (int): The size of the vocabulary\n",
    "        embedding_dim (int): The size of the embedding dimension\n",
    "        \n",
    "    Returns:\n",
    "        model: The initialized pytorch model\n",
    "    \"\"\"\n",
    "    \n",
    "    # Initialize the model\n",
    "    model = nn.Sequential(\n",
    "        # First layer has vocab_size inputs and embedding_dim outputs\n",
    "        nn.Linear(vocab_size, embedding_dim),\n",
    "        nn.ReLU(),\n",
    "        # Second layer has embedding_dim inputs and vocab_size outputs\n",
    "        nn.Linear(embedding_dim, vocab_size)\n",
    "    )\n",
    "    \n",
    "    # Preferably, move the model to the GPU\n",
    "    if torch.cuda.is_available():\n",
    "        model.cuda()\n",
    "        \n",
    "    return model"
   ]
  },
  {
   "cell_type": "code",
   "execution_count": 34,
   "metadata": {},
   "outputs": [],
   "source": [
    "# Initialize the model\n",
    "model = initialize_model(vocab['count'], 100)"
   ]
  },
  {
   "cell_type": "code",
   "execution_count": 35,
   "metadata": {},
   "outputs": [
    {
     "name": "stdout",
     "output_type": "stream",
     "text": [
      "Sequential(\n",
      "  (0): Linear(in_features=2517, out_features=100, bias=True)\n",
      "  (1): ReLU()\n",
      "  (2): Linear(in_features=100, out_features=2517, bias=True)\n",
      ")\n"
     ]
    }
   ],
   "source": [
    "# Print the model\n",
    "print(model)"
   ]
  },
  {
   "cell_type": "code",
   "execution_count": 36,
   "metadata": {},
   "outputs": [],
   "source": [
    "def train_model(model, train_context_target_pairs, validate_context_target_pairs, epochs=10, lr=0.001, batch_size=100):\n",
    "    \"\"\"\n",
    "    This function trains a pytorch model on a dataset\n",
    "    \n",
    "    Args:\n",
    "        model: The pytorch model to be trained\n",
    "        train_context_target_pairs (list): A list of tuples containing the context and target words for training\n",
    "        validate_context_target_pairs (list): A list of tuples containing the context and target words for validation\n",
    "        epochs (int): The number of epochs\n",
    "        lr (float): The learning rate\n",
    "        batch_size (int): The batch size\n",
    "        \n",
    "    Returns:\n",
    "        model: The trained pytorch model\n",
    "    \"\"\"\n",
    "    \n",
    "    # Store the training and validation losses\n",
    "    train_losses = []\n",
    "    validate_losses = []\n",
    "\n",
    "    # Define the loss function\n",
    "    loss_function = nn.BCEWithLogitsLoss()\n",
    "    \n",
    "    # Define the optimizer\n",
    "    optimizer = torch.optim.Adam(model.parameters(), lr=lr)\n",
    "    \n",
    "    # For each epoch\n",
    "    for epoch in range(epochs):\n",
    "        # Initialize the training loss\n",
    "        train_loss = 0\n",
    "        \n",
    "        # Set the model to training mode\n",
    "        model.train()\n",
    "        \n",
    "        # For each batch of context and target one-hot vectors\n",
    "        for context, target in context_target_to_one_hot(vocab, train_context_target_pairs, batch_size=batch_size):\n",
    "            # Reset the gradients\n",
    "            optimizer.zero_grad()\n",
    "            \n",
    "            # Make predictions\n",
    "            predictions = model(context)\n",
    "            \n",
    "            # Calculate the loss\n",
    "            loss = loss_function(predictions, target)\n",
    "            \n",
    "            # Backpropagate the loss\n",
    "            loss.backward()\n",
    "            \n",
    "            # Update the parameters\n",
    "            optimizer.step()\n",
    "            \n",
    "            # Add the loss to the training loss\n",
    "            train_loss += loss.item()\n",
    "            \n",
    "        # Normalize the training loss\n",
    "        train_loss /= len(train_context_target_pairs)\n",
    "        \n",
    "        # Add the training loss to the list of training losses\n",
    "        train_losses.append(train_loss)\n",
    "            \n",
    "        # Print the training loss\n",
    "        print(\"Epoch:\", epoch+1, \"Training loss:\", train_loss)\n",
    "        \n",
    "        # Initialize the validation loss\n",
    "        validate_loss = 0\n",
    "        \n",
    "        # Set the model to evaluation mode\n",
    "        model.eval()\n",
    "        \n",
    "        # For each batch of context and target one-hot vectors\n",
    "        for context, target in context_target_to_one_hot(vocab, validate_context_target_pairs, batch_size=batch_size):\n",
    "            # Make predictions\n",
    "            predictions = model(context)\n",
    "            \n",
    "            # Calculate the loss\n",
    "            loss = loss_function(predictions, target)\n",
    "            \n",
    "            # Add the loss to the validation loss\n",
    "            validate_loss += loss.item()\n",
    "            \n",
    "        # Normalize the validation loss\n",
    "        validate_loss /= len(validate_context_target_pairs)\n",
    "        \n",
    "        # Add the validation loss to the list of validation losses\n",
    "        validate_losses.append(validate_loss)\n",
    "            \n",
    "        # Print the validation loss\n",
    "        print(\"Epoch:\", epoch+1, \"Validation loss:\", validate_loss)\n",
    "        \n",
    "    return model, train_losses, validate_losses"
   ]
  },
  {
   "cell_type": "code",
   "execution_count": 37,
   "metadata": {},
   "outputs": [],
   "source": [
    "# Split the sentences into training and validation sets\n",
    "shuffle_indices = np.random.permutation(len(sentences))\n",
    "train_sentences = [sentences[i] for i in shuffle_indices[:int(len(sentences)*0.8)]]\n",
    "validate_sentences = [sentences[i] for i in shuffle_indices[int(len(sentences)*0.8):]]"
   ]
  },
  {
   "cell_type": "code",
   "execution_count": 38,
   "metadata": {},
   "outputs": [
    {
     "name": "stdout",
     "output_type": "stream",
     "text": [
      "Generating context and target pairs from 27232 sentences\n"
     ]
    },
    {
     "name": "stderr",
     "output_type": "stream",
     "text": [
      "100%|██████████| 27232/27232 [01:36<00:00, 282.15it/s]\n"
     ]
    },
    {
     "name": "stdout",
     "output_type": "stream",
     "text": [
      "Generating context and target pairs from 6808 sentences\n"
     ]
    },
    {
     "name": "stderr",
     "output_type": "stream",
     "text": [
      "100%|██████████| 6808/6808 [00:25<00:00, 267.09it/s]\n"
     ]
    }
   ],
   "source": [
    "# Generate the context and target pairs for the training and validation sets\n",
    "train_context_target_pairs = generate_context_target_pairs(train_sentences)\n",
    "validate_context_target_pairs = generate_context_target_pairs(validate_sentences)"
   ]
  },
  {
   "cell_type": "code",
   "execution_count": 39,
   "metadata": {},
   "outputs": [
    {
     "name": "stdout",
     "output_type": "stream",
     "text": [
      "Epoch: 1 Training loss: 8.837177999125867e-05\n",
      "Epoch: 1 Validation loss: 1.286609402516686e-05\n",
      "Epoch: 2 Training loss: 1.2809699251197101e-05\n",
      "Epoch: 2 Validation loss: 1.2712779676341018e-05\n",
      "Epoch: 3 Training loss: 1.2532187426502766e-05\n",
      "Epoch: 3 Validation loss: 1.2238829258572894e-05\n",
      "Epoch: 4 Training loss: 1.1957012434312268e-05\n",
      "Epoch: 4 Validation loss: 1.1693672537015175e-05\n",
      "Epoch: 5 Training loss: 1.1503789787238064e-05\n",
      "Epoch: 5 Validation loss: 1.1378469986710027e-05\n",
      "Epoch: 6 Training loss: 1.1236062804687195e-05\n",
      "Epoch: 6 Validation loss: 1.1207570756432245e-05\n",
      "Epoch: 7 Training loss: 1.1063133389462257e-05\n",
      "Epoch: 7 Validation loss: 1.1098585523647353e-05\n",
      "Epoch: 8 Training loss: 1.0933104906055643e-05\n",
      "Epoch: 8 Validation loss: 1.1019999692733033e-05\n",
      "Epoch: 9 Training loss: 1.082608949329442e-05\n",
      "Epoch: 9 Validation loss: 1.0959479388047216e-05\n",
      "Epoch: 10 Training loss: 1.0734578504406137e-05\n",
      "Epoch: 10 Validation loss: 1.091228175370547e-05\n"
     ]
    }
   ],
   "source": [
    "# Train the model\n",
    "model, train_losses, validate_losses = train_model(model, train_context_target_pairs, validate_context_target_pairs, epochs=10, lr=0.001, batch_size=200)"
   ]
  },
  {
   "cell_type": "code",
   "execution_count": 40,
   "metadata": {},
   "outputs": [
    {
     "data": {
      "image/png": "[encoded data removed]",
      "text/plain": [
       "<Figure size 1000x800 with 1 Axes>"
      ]
     },
     "metadata": {},
     "output_type": "display_data"
    }
   ],
   "source": [
    "# Draw the training and validation losses\n",
    "plt.figure(figsize=(10, 8))\n",
    "plt.plot(train_losses, label='Training loss')\n",
    "plt.plot(validate_losses, label='Validation loss')\n",
    "plt.legend()\n",
    "plt.xlabel('Epoch')\n",
    "plt.ylabel('Loss')\n",
    "plt.show()"
   ]
  },
  {
   "cell_type": "markdown",
   "metadata": {},
   "source": [
    "### Get Word Embeddings by calculating mean of the W1 and W2 weight matrices"
   ]
  },
  {
   "cell_type": "code",
   "execution_count": 41,
   "metadata": {},
   "outputs": [],
   "source": [
    "def get_embedding(model):\n",
    "    \"\"\"\n",
    "    This function gets the embedding matrix of all words, by calculating the mean of the weight matrix of the first layer of the model and the second layer of the model\n",
    "    \n",
    "    Args:\n",
    "        model: The pytorch model\n",
    "        \n",
    "    Returns:\n",
    "        embedding (np.array): The embedding of the word\n",
    "    \"\"\"\n",
    "    \n",
    "    # Get the weight matrix of the first layer\n",
    "    weight1 = model[0].weight.data.cpu().numpy()\n",
    "    \n",
    "    # Get the weight matrix of the second layer\n",
    "    weight2 = model[2].weight.data.cpu().numpy()\n",
    "    \n",
    "    # Calculate the mean of the two weight matrices (transpose first layer weight matrix)\n",
    "    all_embeddings = (weight1.T + weight2) / 2\n",
    "    \n",
    "    return all_embeddings"
   ]
  },
  {
   "cell_type": "code",
   "execution_count": 42,
   "metadata": {},
   "outputs": [],
   "source": [
    "# Calculate the embedding matrix of all words\n",
    "all_embeddings = get_embedding(model)"
   ]
  },
  {
   "cell_type": "code",
   "execution_count": 43,
   "metadata": {},
   "outputs": [
    {
     "name": "stdout",
     "output_type": "stream",
     "text": [
      "(2517, 100)\n"
     ]
    }
   ],
   "source": [
    "# Print the shape of the embedding\n",
    "print(all_embeddings.shape)"
   ]
  },
  {
   "cell_type": "code",
   "execution_count": 44,
   "metadata": {},
   "outputs": [],
   "source": [
    "# Define a function to get the embedding of a word\n",
    "def get_word_embedding(word, all_embeddings, vocab):\n",
    "    \"\"\"\n",
    "    This function gets the embedding of a word\n",
    "    \n",
    "    Args:\n",
    "        word (str): The word to be embedded\n",
    "        all_embeddings (np.array): The embedding matrix\n",
    "        vocab (dict): The vocabulary dictionary\n",
    "        \n",
    "    Returns:\n",
    "        embedding (np.array): The embedding of the word\n",
    "    \"\"\"\n",
    "    \n",
    "    # Get the index of the word\n",
    "    index = vocab_utils.lookup_token(vocab, word)\n",
    "    \n",
    "    # Return the embedding\n",
    "    return all_embeddings[index]"
   ]
  },
  {
   "cell_type": "code",
   "execution_count": 45,
   "metadata": {},
   "outputs": [
    {
     "name": "stdout",
     "output_type": "stream",
     "text": [
      "[ 4.48076576e-02  1.64634913e-01 -6.74484015e-01  1.80700362e-01\n",
      "  3.82556021e-01  1.94576442e-01 -8.54499459e-01 -1.92681588e-02\n",
      " -1.64464399e-01 -1.99554235e-01 -9.03800488e-01  2.21777335e-01\n",
      " -6.02526665e-02  5.71528733e-01 -1.07038945e-01  1.97753385e-02\n",
      " -3.15813780e-01 -3.96371603e-01 -2.82632619e-01 -5.75842559e-02\n",
      " -7.52269709e-03 -3.42431664e-01  5.19586980e-01  7.50028908e-01\n",
      " -1.09954268e-01 -5.30472577e-01 -1.09134391e-01  8.05588905e-04\n",
      "  3.11922461e-01  5.23508430e-01 -3.77018511e-01 -2.51066595e-01\n",
      " -3.50451469e-01  1.51424468e-01  1.40312240e-01  5.22333011e-02\n",
      "  2.24427551e-01 -1.50186300e-01 -6.31714940e-01 -4.16963637e-01\n",
      "  7.55169332e-01  2.98405230e-01 -3.85400355e-02  1.47878844e-02\n",
      " -6.77050114e-01  5.15243039e-04 -2.90218115e-01 -4.15866464e-01\n",
      "  2.00566918e-01  3.81082296e-04  1.43253684e-01 -2.24573761e-01\n",
      "  3.27882975e-01  1.49971470e-01  7.43446872e-05 -3.96475017e-01\n",
      "  1.73591018e-01 -3.62475097e-01 -5.25295556e-01  3.10391665e-01\n",
      " -2.18497198e-02 -7.98330293e-04 -9.35203582e-03  8.13850015e-03\n",
      "  5.79257369e-01 -2.59860903e-02 -3.87468308e-01 -2.95446068e-02\n",
      " -1.29440188e-01 -6.60244823e-02 -3.94941449e-01 -2.91309088e-01\n",
      " -1.10780299e-01 -6.41239285e-02  2.82086413e-02 -5.09153485e-01\n",
      "  1.84433311e-02 -1.51971027e-01  2.85992846e-02 -1.80107690e-02\n",
      " -1.96290016e-03  5.09982228e-01  1.14846778e+00 -8.90296698e-02\n",
      "  4.31429803e-01 -6.11693084e-01  2.53771216e-01 -1.14639655e-01\n",
      " -1.76414568e-02 -2.11395457e-01 -1.53384358e-01 -1.38779044e-01\n",
      "  2.05148414e-01  4.15542722e-03 -1.33194074e-01 -1.25623211e-01\n",
      " -6.48836792e-02 -4.22856063e-01  5.17688096e-01  2.95736313e-01]\n"
     ]
    }
   ],
   "source": [
    "# Test the function\n",
    "word = 'king'\n",
    "word_embedding = get_word_embedding(word, all_embeddings, vocab)\n",
    "print(word_embedding)"
   ]
  },
  {
   "cell_type": "code",
   "execution_count": 46,
   "metadata": {},
   "outputs": [],
   "source": [
    "# Define a function to get the most similar words to a word\n",
    "def get_most_similar_words(word, all_embeddings, vocab, n=10):\n",
    "    \"\"\"\n",
    "    This function gets the most similar words to a word\n",
    "    \n",
    "    Args:\n",
    "        word (str): The word to be embedded\n",
    "        all_embeddings (np.array): The embedding matrix\n",
    "        vocab (dict): The vocabulary dictionary\n",
    "        n (int): The number of similar words to return\n",
    "        \n",
    "    Returns:\n",
    "        similar_words (list): A list of tuples containing the similar words and their cosine similarity\n",
    "    \"\"\"\n",
    "    \n",
    "    # Get the embedding of the word\n",
    "    word_embedding = get_word_embedding(word, all_embeddings, vocab)\n",
    "    \n",
    "    # Calculate the cosine similarity between the word and all other words\n",
    "    cosine_similarity = np.dot(all_embeddings, word_embedding) / (np.linalg.norm(all_embeddings, axis=1) * np.linalg.norm(word_embedding))\n",
    "    \n",
    "    # Get the indices of the most similar words\n",
    "    similar_word_indices = np.argsort(cosine_similarity)[::-1][1:n+1]\n",
    "    \n",
    "    # Get the similar words and their cosine similarity\n",
    "    similar_words = [(vocab['idx2word'][index], cosine_similarity[index]) for index in similar_word_indices]\n",
    "    \n",
    "    return similar_words"
   ]
  },
  {
   "cell_type": "code",
   "execution_count": 47,
   "metadata": {},
   "outputs": [
    {
     "name": "stdout",
     "output_type": "stream",
     "text": [
      "[('henry', 0.8662488), ('richard', 0.84505343), ('edward', 0.83305484), ('vi', 0.7767554), ('prince', 0.720985), ('england', 0.7085519), ('duke', 0.6807811), ('iii', 0.65871537), ('queen', 0.6483214), ('lear', 0.64747155)]\n"
     ]
    }
   ],
   "source": [
    "# Test the function\n",
    "word = 'king'\n",
    "similar_words = get_most_similar_words(word, all_embeddings, vocab)\n",
    "print(similar_words)"
   ]
  },
  {
   "cell_type": "code",
   "execution_count": 48,
   "metadata": {},
   "outputs": [
    {
     "name": "stdout",
     "output_type": "stream",
     "text": [
      "[('prince', 0.8114015), ('doctor', 0.7786069), ('harry', 0.7740024), ('vi', 0.75712955), ('princess', 0.74393153), ('buckingham', 0.7433236), ('lancaster', 0.7395614), ('suffolk', 0.7394096), ('humphrey', 0.73338836), ('kent', 0.73284763)]\n"
     ]
    }
   ],
   "source": [
    "# Test the function\n",
    "word = 'queen'\n",
    "similar_words = get_most_similar_words(word, all_embeddings, vocab)\n",
    "print(similar_words)"
   ]
  }
 ],
 "metadata": {
  "kernelspec": {
   "display_name": "ttth_natural_language_processing_practice",
   "language": "python",
   "name": "python3"
  },
  "language_info": {
   "codemirror_mode": {
    "name": "ipython",
    "version": 3
   },
   "file_extension": ".py",
   "mimetype": "text/x-python",
   "name": "python",
   "nbconvert_exporter": "python",
   "pygments_lexer": "ipython3",
   "version": "3.10.13"
  }
 },
 "nbformat": 4,
 "nbformat_minor": 2
}
